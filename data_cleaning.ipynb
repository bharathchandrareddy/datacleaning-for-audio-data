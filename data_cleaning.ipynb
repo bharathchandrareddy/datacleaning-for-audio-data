{
 "cells": [
  {
   "cell_type": "code",
   "execution_count": null,
   "id": "4dd9274b",
   "metadata": {},
   "outputs": [],
   "source": [
    "import noisereduce as nr\n",
    "from scipy.io import wavfile\n",
    "import numpy as np\n",
    "import os\n",
    "\n",
    "count=0\n",
    "babycry_data_path = \"C:\\\\Users\\\\PC\\\\Desktop\\\\lisnen\\\\December_2021\\\\Baby_Cry\\\\\"\n",
    "for filename in os.listdir(babycry_data_path):\n",
    "    filepath = os.path.join(babycry_data_path,filename)\n",
    "    rate, data = wavfile.read(filepath)\n",
    "    orig_data = data.shape\n",
    "    # perform noise reduction\n",
    "    data = np.reshape(data,(2,-1))\n",
    "    #print(data)\n",
    "    reduced_noise = nr.reduce_noise(y=data, sr=rate,stationary=True)\n",
    "    clear_file_name = 'babycry_audio-'+str(count)+'.wav'\n",
    "    clear_path = babycry_data_path+clear_file_name\n",
    "    file = wavfile.write(clear_path, rate, reduced_noise.reshape(orig_data))\n",
    "    print(\"created noise reduced file\")\n",
    "    count+=1\n",
    "    #os.remove(filepath)\n"
   ]
  },
  {
   "cell_type": "code",
   "execution_count": null,
   "id": "c168706d",
   "metadata": {},
   "outputs": [],
   "source": []
  },
  {
   "cell_type": "code",
   "execution_count": null,
   "id": "7f11f1fa",
   "metadata": {},
   "outputs": [],
   "source": [
    "count=0\n",
    "doorbell_data_path = \"C:\\\\Users\\\\PC\\\\Desktop\\\\lisnen\\\\December_2021\\\\Door_Bell\\\\\"\n",
    "for filename in os.listdir(doorbell_data_path):\n",
    "    filepath = os.path.join(doorbell_data_path,filename)\n",
    "    try:\n",
    "        rate, data = wavfile.read(filepath)\n",
    "        #orig_data = data.shape\n",
    "                # perform noise reduction\n",
    "        #data = np.reshape(data,(2,-1))\n",
    "        #print(data)\n",
    "        reduced_noise = nr.reduce_noise(y=data, sr=rate,stationary=True)\n",
    "        clear_file_name = 'doorbell_audio-'+str(count)+'.wav'\n",
    "        clear_path = doorbell_data_path+clear_file_name\n",
    "        file = wavfile.write(clear_path,rate,reduced_noise)\n",
    "        #file = wavfile.write(clear_path, rate, reduced_noise.reshape(orig_data))\n",
    "        print(f\"created noise reduced file for {filename}\")\n",
    "        count+=1\n",
    "        #os.remove(filepath)\n",
    "    except:\n",
    "        print(f'error reading the file: {filename}')\n"
   ]
  },
  {
   "cell_type": "code",
   "execution_count": null,
   "id": "1f66f621",
   "metadata": {},
   "outputs": [],
   "source": [
    "print(count)"
   ]
  },
  {
   "cell_type": "code",
   "execution_count": null,
   "id": "1dfbe0f2",
   "metadata": {},
   "outputs": [],
   "source": [
    "import noisereduce as nr\n",
    "from scipy.io import wavfile\n",
    "import numpy as np\n",
    "import os,shutil\n",
    "count=0\n",
    "doorknock_data_path = \"C:\\\\Users\\\\PC\\\\Desktop\\\\lisnen\\\\December_2021\\\\Door_Knock\\\\\"\n",
    "destination_test_path = \"C:\\\\Users\\\\PC\\\\Desktop\\\\lisnen\\\\December_2021\\\\test_data_short_audio\\\\\"\n",
    "for filename in os.listdir(doorknock_data_path):\n",
    "    filepath = os.path.join(doorknock_data_path,filename)\n",
    "    try:\n",
    "        rate, data = wavfile.read(filepath)\n",
    "            #orig_data = data.shape\n",
    "                    # perform noise reduction\n",
    "            #data = np.reshape(data,(2,-1))\n",
    "            #print(data)\n",
    "        reduced_noise = nr.reduce_noise(y=data, sr=rate,stationary=True)\n",
    "        clear_file_name = 'doorknock_audio-'+str(count)+'.wav'\n",
    "        clear_path = os.path.join(doorknock_data_path,clear_file_name)\n",
    "        file = wavfile.write(clear_path,rate,reduced_noise)\n",
    "            #file = wavfile.write(clear_path, rate, reduced_noise.reshape(orig_data))\n",
    "        print(f\"created noise reduced file for {filename}\")\n",
    "        count+=1\n",
    "        #os.remove(filepath)\n",
    "    except:\n",
    "        print(f'error reading the file: {filename}')\n",
    "        test_file_path = os.path.join(destination_test_path,filename)\n",
    "        shutil.move(filepath,test_file_path)\n",
    "        print('moved to destination')\n",
    "        \n",
    "        \n"
   ]
  },
  {
   "cell_type": "code",
   "execution_count": null,
   "id": "a54e63a6",
   "metadata": {},
   "outputs": [],
   "source": [
    "import noisereduce as nr\n",
    "from scipy.io import wavfile\n",
    "import numpy as np\n",
    "import os,shutil\n",
    "count=0\n",
    "firealarm_data_path = \"C:\\\\Users\\\\PC\\\\Desktop\\\\lisnen\\\\December_2021\\\\Fire_Alarm\\\\\"\n",
    "destination_test_path = \"C:\\\\Users\\\\PC\\\\Desktop\\\\lisnen\\\\December_2021\\\\test_data_short_audio\\\\\"\n",
    "for filename in os.listdir(firealarm_data_path):\n",
    "    filepath = os.path.join(firealarm_data_path,filename)\n",
    "    try:\n",
    "        rate, data = wavfile.read(filepath)\n",
    "            #orig_data = data.shape\n",
    "                    # perform noise reduction\n",
    "            #data = np.reshape(data,(2,-1))\n",
    "            #print(data)\n",
    "        reduced_noise = nr.reduce_noise(y=data, sr=rate,stationary=True)\n",
    "        clear_file_name = 'firealarm_audio-'+str(count)+'.wav'\n",
    "        clear_path = os.path.join(firealarm_data_path,clear_file_name)\n",
    "        file = wavfile.write(clear_path,rate,reduced_noise)\n",
    "            #file = wavfile.write(clear_path, rate, reduced_noise.reshape(orig_data))\n",
    "        print(f\"created noise reduced file for {filename}\")\n",
    "        count+=1\n",
    "        #os.remove(filepath)\n",
    "    except:\n",
    "        print(f'error reading the file: {filename}')\n",
    "        test_file_path = os.path.join(destination_test_path,filename)\n",
    "        shutil.move(filepath,test_file_path)\n",
    "        print('moved to destination')"
   ]
  },
  {
   "cell_type": "markdown",
   "id": "e4c346cb",
   "metadata": {},
   "source": [
    "# dividing the audio file into segments"
   ]
  },
  {
   "cell_type": "code",
   "execution_count": 14,
   "id": "ef9297d2",
   "metadata": {},
   "outputs": [
    {
     "name": "stdout",
     "output_type": "stream",
     "text": [
      "Segment 1 saved: C:\\Users\\PC\\Desktop\\lisnen_segmented_working_data\\Baby_Cry\\babycry_audio_sample_0.wav\n",
      "Segment 2 saved: C:\\Users\\PC\\Desktop\\lisnen_segmented_working_data\\Baby_Cry\\babycry_audio_sample_1.wav\n",
      "Segment 3 saved: C:\\Users\\PC\\Desktop\\lisnen_segmented_working_data\\Baby_Cry\\babycry_audio_sample_2.wav\n",
      "Segment 4 saved: C:\\Users\\PC\\Desktop\\lisnen_segmented_working_data\\Baby_Cry\\babycry_audio_sample_3.wav\n",
      "Segment 5 saved: C:\\Users\\PC\\Desktop\\lisnen_segmented_working_data\\Baby_Cry\\babycry_audio_sample_4.wav\n",
      "Segment 6 saved: C:\\Users\\PC\\Desktop\\lisnen_segmented_working_data\\Baby_Cry\\babycry_audio_sample_5.wav\n",
      "Segment 7 saved: C:\\Users\\PC\\Desktop\\lisnen_segmented_working_data\\Baby_Cry\\babycry_audio_sample_6.wav\n",
      "Segment 8 saved: C:\\Users\\PC\\Desktop\\lisnen_segmented_working_data\\Baby_Cry\\babycry_audio_sample_7.wav\n",
      "Segment 9 saved: C:\\Users\\PC\\Desktop\\lisnen_segmented_working_data\\Baby_Cry\\babycry_audio_sample_8.wav\n",
      "Segment 10 saved: C:\\Users\\PC\\Desktop\\lisnen_segmented_working_data\\Baby_Cry\\babycry_audio_sample_9.wav\n",
      "Segment 11 saved: C:\\Users\\PC\\Desktop\\lisnen_segmented_working_data\\Baby_Cry\\babycry_audio_sample_10.wav\n",
      "Segment 12 saved: C:\\Users\\PC\\Desktop\\lisnen_segmented_working_data\\Baby_Cry\\babycry_audio_sample_11.wav\n",
      "Segment 13 saved: C:\\Users\\PC\\Desktop\\lisnen_segmented_working_data\\Baby_Cry\\babycry_audio_sample_12.wav\n",
      "Segment 14 saved: C:\\Users\\PC\\Desktop\\lisnen_segmented_working_data\\Baby_Cry\\babycry_audio_sample_13.wav\n",
      "Segment 15 saved: C:\\Users\\PC\\Desktop\\lisnen_segmented_working_data\\Baby_Cry\\babycry_audio_sample_14.wav\n"
     ]
    }
   ],
   "source": [
    "import librosa\n",
    "import soundfile as sf\n",
    "import numpy as np\n",
    "import os\n",
    "\n",
    "def divide_audio_file(file_path, segment_duration, output_dir):\n",
    "    global count\n",
    "    # Load the audio file\n",
    "    y, sr = librosa.load(file_path, sr=None)\n",
    "    # Calculate the length of each segment in samples\n",
    "    segment_length = int(segment_duration * sr)\n",
    "    # Calculate the number of segments\n",
    "    total_segments = int(np.ceil(len(y) / segment_length))\n",
    "    \n",
    "    if not os.path.exists(output_dir):\n",
    "        os.makedirs(output_dir)\n",
    "    \n",
    "    # Divide the audio and save each segment\n",
    "    for segment in range(total_segments):\n",
    "        start_sample = segment * segment_length\n",
    "        end_sample = start_sample + segment_length\n",
    "        segment_samples = y[start_sample:end_sample]\n",
    "        \n",
    "        # Define the output file path\n",
    "        output_file_path = os.path.join(output_dir, f\"babycry_audio_sample_{count}.wav\")\n",
    "        # Save the segment to a new file\n",
    "        count+=1\n",
    "        sf.write(output_file_path, segment_samples, sr)\n",
    "        print(f\"Segment {count} saved: {output_file_path}\")\n",
    "\n",
    "#example\n",
    "#file_path = \"C:\\\\Users\\\\PC\\\\Desktop\\\\lisnen_segmented_working_data\\\\Fire_Alarm\\\\firealarm_audio-37.wav\"  # Replace with your audio file path\n",
    "segment_duration = 7  # Segment duration in seconds\n",
    "output_dir = \"C:\\\\Users\\\\PC\\\\Desktop\\\\lisnen_segmented_working_data\\\\Baby_Cry\\\\\"  # Replace with your desired output directory\n",
    "\n",
    "folder_path = \"C:\\\\Users\\\\PC\\\\Desktop\\\\dummy\\\\\"\n",
    "count=0\n",
    "for filename in os.listdir(folder_path):\n",
    "    file_path = os.path.join(folder_path,filename)\n",
    "    \n",
    "    divide_audio_file(file_path, segment_duration, output_dir)"
   ]
  },
  {
   "cell_type": "code",
   "execution_count": null,
   "id": "ce7845e6",
   "metadata": {},
   "outputs": [],
   "source": []
  },
  {
   "cell_type": "markdown",
   "id": "38a713f4",
   "metadata": {},
   "source": [
    "# converting other formats to wav format"
   ]
  },
  {
   "cell_type": "code",
   "execution_count": null,
   "id": "1a77af55",
   "metadata": {},
   "outputs": [],
   "source": []
  },
  {
   "cell_type": "code",
   "execution_count": null,
   "id": "a7c7448f",
   "metadata": {},
   "outputs": [],
   "source": [
    "import soundfile as sf\n",
    "import os\n",
    "from pydub import AudioSegment\n",
    "\n",
    "def convert_to_wav(input_file_path):\n",
    "    try:\n",
    "        # Read the input file\n",
    "        data, samplerate = sf.read(input_file_path)\n",
    "        #audio = AudioSegment.from_file(input_file_path)\n",
    "        # Construct the WAV file name\n",
    "        output_file_path = input_file_path.rsplit('.', 1)[0] + '.wav'\n",
    "        #output_file_path = os.path.splitext(input_file_path)[0] + '.wav'\n",
    "        #audio.export(output_file_path, format=\"wav\")\n",
    "        # Write the data to a WAV file\n",
    "        sf.write(output_file_path, data, samplerate)\n",
    "        print(f\"Converted and saved: {output_file_path}\")\n",
    "        os.remove(input_file_path)\n",
    "        return output_file_path\n",
    "    except:\n",
    "        print(f'error reading the file: {input_file_path}')"
   ]
  },
  {
   "cell_type": "code",
   "execution_count": null,
   "id": "cb7eba77",
   "metadata": {},
   "outputs": [],
   "source": [
    "for folderpath,filename in zip(df['Folder Path'],df['File Name']):  #change the format as per need\n",
    "    if filename.lower().endswith(('.mp3', '.m4a', '.flac')):  # Add or remove formats as needed\n",
    "        input_file_path = os.path.join(folderpath, filename)\n",
    "        normalized_path = os.path.normpath(input_file_path)\n",
    "        convert_to_wav(normalized_path)"
   ]
  },
  {
   "cell_type": "code",
   "execution_count": null,
   "id": "da7f5022",
   "metadata": {},
   "outputs": [],
   "source": []
  },
  {
   "cell_type": "markdown",
   "id": "1ed90221",
   "metadata": {},
   "source": [
    "# creating csv file"
   ]
  },
  {
   "cell_type": "code",
   "execution_count": 15,
   "id": "82a06834",
   "metadata": {},
   "outputs": [
    {
     "name": "stdout",
     "output_type": "stream",
     "text": [
      "CSV file has been created and saved to: C:\\Users\\PC\\Desktop\\lisnen_segmented_working_data\\meta_data.csv\n"
     ]
    }
   ],
   "source": [
    "import os\n",
    "import pandas as pd\n",
    "\n",
    "# Define the directory path where your folders are located\n",
    "directory_path = \"C:\\\\Users\\\\PC\\\\Desktop\\\\lisnen_segmented_working_data\\\\\"\n",
    "\n",
    "# Initialize lists to store folder paths and file names\n",
    "folder_paths = []\n",
    "file_names = []\n",
    "labels = []\n",
    "\n",
    "# Loop over each folder and file in the directory\n",
    "for folder_name in os.listdir(directory_path):\n",
    "    if folder_name == 'Baby_Cry' or folder_name == 'Door_Knock' or folder_name=='Door_Bell' or folder_name == 'Fire_Alarm':\n",
    "        \n",
    "        folder_path = os.path.join(directory_path, folder_name)\n",
    "        if os.path.isdir(folder_path):  # Check if it's a folder\n",
    "            for file_name in os.listdir(folder_path):\n",
    "                file_path = os.path.join(folder_path, file_name)\n",
    "                if os.path.isfile(file_path):  # Check if it's a file\n",
    "\n",
    "                    path_parts = folder_path.split('\\\\')\n",
    "\n",
    "                    # Assuming the label is always in a specific position (e.g., two levels above the file name)\n",
    "                    label_index = -1  # This is based on my working directory; adjust as necessary\n",
    "                    label = path_parts[label_index]\n",
    "\n",
    "                    # Optional: Format the label (e.g., replace underscores with spaces, capitalize each word)\n",
    "                    formatted_label = label.replace('_', ' ').title()\n",
    "                    labels.append(formatted_label)\n",
    "                    # Append folder path and file name to the lists\n",
    "                    folder_paths.append(folder_path)\n",
    "                    file_names.append(file_name)\n",
    "\n",
    "# Create a DataFrame from the folder paths and file names\n",
    "df = pd.DataFrame({\n",
    "    'Labels': labels,\n",
    "    'Folder Path': folder_paths,\n",
    "    'File Name': file_names\n",
    "    \n",
    "})\n",
    "\n",
    "# Define the path where you want to save the CSV file\n",
    "csv_file_path = 'C:\\\\Users\\\\PC\\\\Desktop\\\\lisnen_segmented_working_data\\\\meta_data.csv'\n",
    "\n",
    "# Save the DataFrame to a CSV file\n",
    "df.to_csv(csv_file_path, index=False)\n",
    "\n",
    "print(\"CSV file has been created and saved to:\", csv_file_path)\n"
   ]
  }
 ],
 "metadata": {
  "kernelspec": {
   "display_name": "lisnenv1",
   "language": "python",
   "name": "lisnenv1"
  },
  "language_info": {
   "codemirror_mode": {
    "name": "ipython",
    "version": 3
   },
   "file_extension": ".py",
   "mimetype": "text/x-python",
   "name": "python",
   "nbconvert_exporter": "python",
   "pygments_lexer": "ipython3",
   "version": "3.7.13"
  }
 },
 "nbformat": 4,
 "nbformat_minor": 5
}
